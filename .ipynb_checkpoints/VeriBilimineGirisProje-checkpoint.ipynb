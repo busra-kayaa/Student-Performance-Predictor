{
 "cells": [
  {
   "cell_type": "markdown",
   "id": "9a6ec54a-64bd-4235-a8e2-3810c10c5d7f",
   "metadata": {},
   "source": [
    "## Part-1: Keşifçi Veri Analizi ve Veri Görselleştirme"
   ]
  },
  {
   "cell_type": "code",
   "execution_count": null,
   "id": "8920d7b5-5be4-4aaf-9130-5adbceca6598",
   "metadata": {},
   "outputs": [],
   "source": [
    "import pandas as pd\n",
    "\n",
    "# Veri setini yükleme\n",
    "df = pd.read_csv('StudentPerformanceFactors.csv')"
   ]
  }
 ],
 "metadata": {
  "kernelspec": {
   "display_name": "Python 3 (ipykernel)",
   "language": "python",
   "name": "python3"
  },
  "language_info": {
   "codemirror_mode": {
    "name": "ipython",
    "version": 3
   },
   "file_extension": ".py",
   "mimetype": "text/x-python",
   "name": "python",
   "nbconvert_exporter": "python",
   "pygments_lexer": "ipython3",
   "version": "3.12.4"
  }
 },
 "nbformat": 4,
 "nbformat_minor": 5
}
